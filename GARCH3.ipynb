{
 "cells": [
  {
   "cell_type": "markdown",
   "metadata": {},
   "source": [
    "# GARCH Volatility Modeling\n",
    "\n",
    "### Using past returns data to predict 7-day volatility for an asset\n",
    "\n",
    "*By Jayden Reuben*"
   ]
  },
  {
   "cell_type": "markdown",
   "metadata": {},
   "source": [
    "##### Overview of GARCH\n",
    "\n",
    "Generalized Autoregressive Conditional Heteroskedasticity (GARCH) models estimate today's (time zero) volatility of an asset based on a information from a historical period. The information directly utilized in the prediction of volatility is as follows:\n",
    "* Squared residuals ($ \\epsilon_i = r_i - \\bar{r} $), which is the actual return in time t, less the mean return\n",
    "* Conditional variance for each observation\n",
    "* The long-run variance (overall sample variance)\n",
    "* Some parameters on the first and second terms described above ($\\alpha$, $\\beta$, $\\omega$)\n",
    "\n",
    "The simplest GARCH model is GARCH(1,1), which looks at one lag component of each of these variables. The model specification is as follows:\n",
    "\n",
    "$\\sigma^2_t = \\phi V_L + \\alpha \\epsilon^2_{t-1} + \\beta \\sigma^2_{t-1}$\n",
    "\n",
    "where $V_L = \\frac{\\omega}{1-\\alpha-\\beta}$ and $\\omega = \\phi V_L$\n",
    "\n",
    "We can respecify the model as follows:\n",
    "$\\sigma^2_t = \\omega + \\alpha \\epsilon^2_{t-1} + \\beta \\sigma^2_{t-1}$\n",
    "\n",
    "##### Fund Analysis\n",
    "\n",
    "In another post on my website, I've recently investigated the performance of ESG funds vs the VICE ETF (sin tiscxs) in a preliminary analysis. I continue this theme by modeling and predicting the volatility of an ESG fund.\n",
    "\n",
    "I apply a GARCH(p,q) model on the returns and volatility of the TIAA-CREF Social Choice Equity Fund (TISCX). The entire data process is as follows:\n",
    "1. Collect fund data via yfinance (a library which interfaces with Yahoo Finance API to query and collect price data)\n",
    "2. Apply Pandas techniques to process/cleanse the data (icluding calculating log returns)\n",
    "3. Visualize PACF to ascertain potential appropriate GARCH lags\n",
    "4. Create training and testing datasets\n",
    "5. Fitting a GARCH model and confirming the significance of the GARCH lags (alpha, beta)\n",
    "6. Model GARCH and compare historical (actual) volatility and predicted volatility (visualization)\n",
    "7. Volatility forecast"
   ]
  },
  {
   "cell_type": "markdown",
   "metadata": {},
   "source": [
    "#### Data Collection & Processing"
   ]
  },
  {
   "cell_type": "code",
   "execution_count": 23,
   "metadata": {},
   "outputs": [],
   "source": [
    "# Importing relevant libraries to utilize in the collection and wrangling of data. Additionally, other libraries are imported in order to perform statistical analyses and test models. \n",
    "import pandas as pd\n",
    "import numpy as np\n",
    "import yfinance as yf\n",
    "import matplotlib.pyplot as plt\n",
    "import warnings\n",
    "from statsmodels.graphics.tsaplots import plot_acf, plot_pacf\n",
    "from arch import arch_model\n",
    "from random import gauss\n",
    "from datetime import datetime, timedelta\n",
    "warnings.simplefilter(action='ignore')"
   ]
  },
  {
   "cell_type": "code",
   "execution_count": 24,
   "metadata": {},
   "outputs": [
    {
     "data": {
      "text/html": [
       "<div>\n",
       "<style scoped>\n",
       "    .dataframe tbody tr th:only-of-type {\n",
       "        vertical-align: middle;\n",
       "    }\n",
       "\n",
       "    .dataframe tbody tr th {\n",
       "        vertical-align: top;\n",
       "    }\n",
       "\n",
       "    .dataframe thead th {\n",
       "        text-align: right;\n",
       "    }\n",
       "</style>\n",
       "<table border=\"1\" class=\"dataframe\">\n",
       "  <thead>\n",
       "    <tr style=\"text-align: right;\">\n",
       "      <th></th>\n",
       "      <th>Open</th>\n",
       "      <th>High</th>\n",
       "      <th>Low</th>\n",
       "      <th>Close</th>\n",
       "      <th>Volume</th>\n",
       "      <th>Dividends</th>\n",
       "      <th>Stock Splits</th>\n",
       "    </tr>\n",
       "    <tr>\n",
       "      <th>Date</th>\n",
       "      <th></th>\n",
       "      <th></th>\n",
       "      <th></th>\n",
       "      <th></th>\n",
       "      <th></th>\n",
       "      <th></th>\n",
       "      <th></th>\n",
       "    </tr>\n",
       "  </thead>\n",
       "  <tbody>\n",
       "    <tr>\n",
       "      <th>2017-01-13</th>\n",
       "      <td>12.642455</td>\n",
       "      <td>12.642455</td>\n",
       "      <td>12.642455</td>\n",
       "      <td>12.642455</td>\n",
       "      <td>0</td>\n",
       "      <td>0.0</td>\n",
       "      <td>0</td>\n",
       "    </tr>\n",
       "    <tr>\n",
       "      <th>2017-01-17</th>\n",
       "      <td>12.597249</td>\n",
       "      <td>12.597249</td>\n",
       "      <td>12.597249</td>\n",
       "      <td>12.597249</td>\n",
       "      <td>0</td>\n",
       "      <td>0.0</td>\n",
       "      <td>0</td>\n",
       "    </tr>\n",
       "    <tr>\n",
       "      <th>2017-01-18</th>\n",
       "      <td>12.627387</td>\n",
       "      <td>12.627387</td>\n",
       "      <td>12.627387</td>\n",
       "      <td>12.627387</td>\n",
       "      <td>0</td>\n",
       "      <td>0.0</td>\n",
       "      <td>0</td>\n",
       "    </tr>\n",
       "    <tr>\n",
       "      <th>2017-01-19</th>\n",
       "      <td>12.582181</td>\n",
       "      <td>12.582181</td>\n",
       "      <td>12.582181</td>\n",
       "      <td>12.582181</td>\n",
       "      <td>0</td>\n",
       "      <td>0.0</td>\n",
       "      <td>0</td>\n",
       "    </tr>\n",
       "    <tr>\n",
       "      <th>2017-01-20</th>\n",
       "      <td>12.627387</td>\n",
       "      <td>12.627387</td>\n",
       "      <td>12.627387</td>\n",
       "      <td>12.627387</td>\n",
       "      <td>0</td>\n",
       "      <td>0.0</td>\n",
       "      <td>0</td>\n",
       "    </tr>\n",
       "    <tr>\n",
       "      <th>...</th>\n",
       "      <td>...</td>\n",
       "      <td>...</td>\n",
       "      <td>...</td>\n",
       "      <td>...</td>\n",
       "      <td>...</td>\n",
       "      <td>...</td>\n",
       "      <td>...</td>\n",
       "    </tr>\n",
       "    <tr>\n",
       "      <th>2022-01-07</th>\n",
       "      <td>27.680000</td>\n",
       "      <td>27.680000</td>\n",
       "      <td>27.680000</td>\n",
       "      <td>27.680000</td>\n",
       "      <td>0</td>\n",
       "      <td>0.0</td>\n",
       "      <td>0</td>\n",
       "    </tr>\n",
       "    <tr>\n",
       "      <th>2022-01-10</th>\n",
       "      <td>27.639999</td>\n",
       "      <td>27.639999</td>\n",
       "      <td>27.639999</td>\n",
       "      <td>27.639999</td>\n",
       "      <td>0</td>\n",
       "      <td>0.0</td>\n",
       "      <td>0</td>\n",
       "    </tr>\n",
       "    <tr>\n",
       "      <th>2022-01-11</th>\n",
       "      <td>27.879999</td>\n",
       "      <td>27.879999</td>\n",
       "      <td>27.879999</td>\n",
       "      <td>27.879999</td>\n",
       "      <td>0</td>\n",
       "      <td>0.0</td>\n",
       "      <td>0</td>\n",
       "    </tr>\n",
       "    <tr>\n",
       "      <th>2022-01-12</th>\n",
       "      <td>27.940001</td>\n",
       "      <td>27.940001</td>\n",
       "      <td>27.940001</td>\n",
       "      <td>27.940001</td>\n",
       "      <td>0</td>\n",
       "      <td>0.0</td>\n",
       "      <td>0</td>\n",
       "    </tr>\n",
       "    <tr>\n",
       "      <th>2022-01-13</th>\n",
       "      <td>27.530001</td>\n",
       "      <td>27.530001</td>\n",
       "      <td>27.530001</td>\n",
       "      <td>27.530001</td>\n",
       "      <td>0</td>\n",
       "      <td>0.0</td>\n",
       "      <td>0</td>\n",
       "    </tr>\n",
       "  </tbody>\n",
       "</table>\n",
       "<p>1260 rows × 7 columns</p>\n",
       "</div>"
      ],
      "text/plain": [
       "                 Open       High        Low      Close  Volume  Dividends  \\\n",
       "Date                                                                        \n",
       "2017-01-13  12.642455  12.642455  12.642455  12.642455       0        0.0   \n",
       "2017-01-17  12.597249  12.597249  12.597249  12.597249       0        0.0   \n",
       "2017-01-18  12.627387  12.627387  12.627387  12.627387       0        0.0   \n",
       "2017-01-19  12.582181  12.582181  12.582181  12.582181       0        0.0   \n",
       "2017-01-20  12.627387  12.627387  12.627387  12.627387       0        0.0   \n",
       "...               ...        ...        ...        ...     ...        ...   \n",
       "2022-01-07  27.680000  27.680000  27.680000  27.680000       0        0.0   \n",
       "2022-01-10  27.639999  27.639999  27.639999  27.639999       0        0.0   \n",
       "2022-01-11  27.879999  27.879999  27.879999  27.879999       0        0.0   \n",
       "2022-01-12  27.940001  27.940001  27.940001  27.940001       0        0.0   \n",
       "2022-01-13  27.530001  27.530001  27.530001  27.530001       0        0.0   \n",
       "\n",
       "            Stock Splits  \n",
       "Date                      \n",
       "2017-01-13             0  \n",
       "2017-01-17             0  \n",
       "2017-01-18             0  \n",
       "2017-01-19             0  \n",
       "2017-01-20             0  \n",
       "...                  ...  \n",
       "2022-01-07             0  \n",
       "2022-01-10             0  \n",
       "2022-01-11             0  \n",
       "2022-01-12             0  \n",
       "2022-01-13             0  \n",
       "\n",
       "[1260 rows x 7 columns]"
      ]
     },
     "execution_count": 24,
     "metadata": {},
     "output_type": "execute_result"
    }
   ],
   "source": [
    "# Historical data retrieval (5 years)\n",
    "tiscx = yf.Ticker('TISCX')\n",
    "tiscx = tiscx.history(interval=\"1d\", start=\"2017-01-14\", end=\"2022-01-15\")\n",
    "tiscx"
   ]
  },
  {
   "cell_type": "code",
   "execution_count": 25,
   "metadata": {},
   "outputs": [
    {
     "data": {
      "text/html": [
       "<div>\n",
       "<style scoped>\n",
       "    .dataframe tbody tr th:only-of-type {\n",
       "        vertical-align: middle;\n",
       "    }\n",
       "\n",
       "    .dataframe tbody tr th {\n",
       "        vertical-align: top;\n",
       "    }\n",
       "\n",
       "    .dataframe thead th {\n",
       "        text-align: right;\n",
       "    }\n",
       "</style>\n",
       "<table border=\"1\" class=\"dataframe\">\n",
       "  <thead>\n",
       "    <tr style=\"text-align: right;\">\n",
       "      <th></th>\n",
       "      <th>Close</th>\n",
       "    </tr>\n",
       "    <tr>\n",
       "      <th>Date</th>\n",
       "      <th></th>\n",
       "    </tr>\n",
       "  </thead>\n",
       "  <tbody>\n",
       "    <tr>\n",
       "      <th>2017-01-13</th>\n",
       "      <td>12.642455</td>\n",
       "    </tr>\n",
       "    <tr>\n",
       "      <th>2017-01-17</th>\n",
       "      <td>12.597249</td>\n",
       "    </tr>\n",
       "    <tr>\n",
       "      <th>2017-01-18</th>\n",
       "      <td>12.627387</td>\n",
       "    </tr>\n",
       "    <tr>\n",
       "      <th>2017-01-19</th>\n",
       "      <td>12.582181</td>\n",
       "    </tr>\n",
       "    <tr>\n",
       "      <th>2017-01-20</th>\n",
       "      <td>12.627387</td>\n",
       "    </tr>\n",
       "    <tr>\n",
       "      <th>...</th>\n",
       "      <td>...</td>\n",
       "    </tr>\n",
       "    <tr>\n",
       "      <th>2022-01-07</th>\n",
       "      <td>27.680000</td>\n",
       "    </tr>\n",
       "    <tr>\n",
       "      <th>2022-01-10</th>\n",
       "      <td>27.639999</td>\n",
       "    </tr>\n",
       "    <tr>\n",
       "      <th>2022-01-11</th>\n",
       "      <td>27.879999</td>\n",
       "    </tr>\n",
       "    <tr>\n",
       "      <th>2022-01-12</th>\n",
       "      <td>27.940001</td>\n",
       "    </tr>\n",
       "    <tr>\n",
       "      <th>2022-01-13</th>\n",
       "      <td>27.530001</td>\n",
       "    </tr>\n",
       "  </tbody>\n",
       "</table>\n",
       "<p>1260 rows × 1 columns</p>\n",
       "</div>"
      ],
      "text/plain": [
       "                Close\n",
       "Date                 \n",
       "2017-01-13  12.642455\n",
       "2017-01-17  12.597249\n",
       "2017-01-18  12.627387\n",
       "2017-01-19  12.582181\n",
       "2017-01-20  12.627387\n",
       "...               ...\n",
       "2022-01-07  27.680000\n",
       "2022-01-10  27.639999\n",
       "2022-01-11  27.879999\n",
       "2022-01-12  27.940001\n",
       "2022-01-13  27.530001\n",
       "\n",
       "[1260 rows x 1 columns]"
      ]
     },
     "execution_count": 25,
     "metadata": {},
     "output_type": "execute_result"
    }
   ],
   "source": [
    "# Dropping unneeded columns - retaining only 'Close' data.\n",
    "tiscx = tiscx.drop(['Open', 'High', 'Low', 'Volume', 'Dividends', 'Stock Splits'],axis=1)\n",
    "tiscx"
   ]
  },
  {
   "cell_type": "code",
   "execution_count": 26,
   "metadata": {},
   "outputs": [],
   "source": [
    "# Writing a CSV file with close price data for analysis on other platforms (such as EViews, SAS, R) - separate to this analysis, as Python is only used. \n",
    "tiscx.to_csv('tiscx_px_hist.csv')"
   ]
  },
  {
   "cell_type": "markdown",
   "metadata": {},
   "source": [
    "##### Computing Returns (Arithmetic and Logarithmic)"
   ]
  },
  {
   "cell_type": "code",
   "execution_count": 27,
   "metadata": {},
   "outputs": [
    {
     "data": {
      "text/html": [
       "<div>\n",
       "<style scoped>\n",
       "    .dataframe tbody tr th:only-of-type {\n",
       "        vertical-align: middle;\n",
       "    }\n",
       "\n",
       "    .dataframe tbody tr th {\n",
       "        vertical-align: top;\n",
       "    }\n",
       "\n",
       "    .dataframe thead th {\n",
       "        text-align: right;\n",
       "    }\n",
       "</style>\n",
       "<table border=\"1\" class=\"dataframe\">\n",
       "  <thead>\n",
       "    <tr style=\"text-align: right;\">\n",
       "      <th></th>\n",
       "      <th>Close</th>\n",
       "    </tr>\n",
       "    <tr>\n",
       "      <th>Date</th>\n",
       "      <th></th>\n",
       "    </tr>\n",
       "  </thead>\n",
       "  <tbody>\n",
       "    <tr>\n",
       "      <th>2017-01-17</th>\n",
       "      <td>-0.003576</td>\n",
       "    </tr>\n",
       "    <tr>\n",
       "      <th>2017-01-18</th>\n",
       "      <td>0.002392</td>\n",
       "    </tr>\n",
       "    <tr>\n",
       "      <th>2017-01-19</th>\n",
       "      <td>-0.003580</td>\n",
       "    </tr>\n",
       "    <tr>\n",
       "      <th>2017-01-20</th>\n",
       "      <td>0.003593</td>\n",
       "    </tr>\n",
       "    <tr>\n",
       "      <th>2017-01-23</th>\n",
       "      <td>-0.001790</td>\n",
       "    </tr>\n",
       "    <tr>\n",
       "      <th>...</th>\n",
       "      <td>...</td>\n",
       "    </tr>\n",
       "    <tr>\n",
       "      <th>2022-01-07</th>\n",
       "      <td>-0.007174</td>\n",
       "    </tr>\n",
       "    <tr>\n",
       "      <th>2022-01-10</th>\n",
       "      <td>-0.001445</td>\n",
       "    </tr>\n",
       "    <tr>\n",
       "      <th>2022-01-11</th>\n",
       "      <td>0.008683</td>\n",
       "    </tr>\n",
       "    <tr>\n",
       "      <th>2022-01-12</th>\n",
       "      <td>0.002152</td>\n",
       "    </tr>\n",
       "    <tr>\n",
       "      <th>2022-01-13</th>\n",
       "      <td>-0.014674</td>\n",
       "    </tr>\n",
       "  </tbody>\n",
       "</table>\n",
       "<p>1259 rows × 1 columns</p>\n",
       "</div>"
      ],
      "text/plain": [
       "               Close\n",
       "Date                \n",
       "2017-01-17 -0.003576\n",
       "2017-01-18  0.002392\n",
       "2017-01-19 -0.003580\n",
       "2017-01-20  0.003593\n",
       "2017-01-23 -0.001790\n",
       "...              ...\n",
       "2022-01-07 -0.007174\n",
       "2022-01-10 -0.001445\n",
       "2022-01-11  0.008683\n",
       "2022-01-12  0.002152\n",
       "2022-01-13 -0.014674\n",
       "\n",
       "[1259 rows x 1 columns]"
      ]
     },
     "execution_count": 27,
     "metadata": {},
     "output_type": "execute_result"
    }
   ],
   "source": [
    "# Computing arithmetic returns and removing NaN values\n",
    "ret = tiscx['Close'].pct_change().dropna()\n",
    "ret = pd.DataFrame(ret, columns=['Close'])\n",
    "ret"
   ]
  },
  {
   "cell_type": "code",
   "execution_count": 28,
   "metadata": {},
   "outputs": [
    {
     "data": {
      "text/html": [
       "<div>\n",
       "<style scoped>\n",
       "    .dataframe tbody tr th:only-of-type {\n",
       "        vertical-align: middle;\n",
       "    }\n",
       "\n",
       "    .dataframe tbody tr th {\n",
       "        vertical-align: top;\n",
       "    }\n",
       "\n",
       "    .dataframe thead th {\n",
       "        text-align: right;\n",
       "    }\n",
       "</style>\n",
       "<table border=\"1\" class=\"dataframe\">\n",
       "  <thead>\n",
       "    <tr style=\"text-align: right;\">\n",
       "      <th></th>\n",
       "      <th>Close</th>\n",
       "    </tr>\n",
       "    <tr>\n",
       "      <th>Date</th>\n",
       "      <th></th>\n",
       "    </tr>\n",
       "  </thead>\n",
       "  <tbody>\n",
       "    <tr>\n",
       "      <th>2017-01-17</th>\n",
       "      <td>-0.003576</td>\n",
       "    </tr>\n",
       "    <tr>\n",
       "      <th>2017-01-18</th>\n",
       "      <td>0.002392</td>\n",
       "    </tr>\n",
       "    <tr>\n",
       "      <th>2017-01-19</th>\n",
       "      <td>-0.003580</td>\n",
       "    </tr>\n",
       "    <tr>\n",
       "      <th>2017-01-20</th>\n",
       "      <td>0.003593</td>\n",
       "    </tr>\n",
       "    <tr>\n",
       "      <th>2017-01-23</th>\n",
       "      <td>-0.001790</td>\n",
       "    </tr>\n",
       "    <tr>\n",
       "      <th>...</th>\n",
       "      <td>...</td>\n",
       "    </tr>\n",
       "    <tr>\n",
       "      <th>2022-01-07</th>\n",
       "      <td>-0.007174</td>\n",
       "    </tr>\n",
       "    <tr>\n",
       "      <th>2022-01-10</th>\n",
       "      <td>-0.001445</td>\n",
       "    </tr>\n",
       "    <tr>\n",
       "      <th>2022-01-11</th>\n",
       "      <td>0.008683</td>\n",
       "    </tr>\n",
       "    <tr>\n",
       "      <th>2022-01-12</th>\n",
       "      <td>0.002152</td>\n",
       "    </tr>\n",
       "    <tr>\n",
       "      <th>2022-01-13</th>\n",
       "      <td>-0.014674</td>\n",
       "    </tr>\n",
       "  </tbody>\n",
       "</table>\n",
       "<p>1259 rows × 1 columns</p>\n",
       "</div>"
      ],
      "text/plain": [
       "               Close\n",
       "Date                \n",
       "2017-01-17 -0.003576\n",
       "2017-01-18  0.002392\n",
       "2017-01-19 -0.003580\n",
       "2017-01-20  0.003593\n",
       "2017-01-23 -0.001790\n",
       "...              ...\n",
       "2022-01-07 -0.007174\n",
       "2022-01-10 -0.001445\n",
       "2022-01-11  0.008683\n",
       "2022-01-12  0.002152\n",
       "2022-01-13 -0.014674\n",
       "\n",
       "[1259 rows x 1 columns]"
      ]
     },
     "execution_count": 28,
     "metadata": {},
     "output_type": "execute_result"
    }
   ],
   "source": [
    "# Computing logarithmic returns \n",
    "log_ret = np.log(tiscx.Close) - np.log(tiscx.Close.shift(1))\n",
    "log_ret = pd.DataFrame(ret,columns=['Close']).dropna()\n",
    "log_ret"
   ]
  },
  {
   "cell_type": "code",
   "execution_count": 29,
   "metadata": {},
   "outputs": [
    {
     "name": "stdout",
     "output_type": "stream",
     "text": [
      "Daily returns: 0.06947%\n",
      "Daily volatility: 0.01231\n"
     ]
    }
   ],
   "source": [
    "# Daily returns and variance calculations (logarithmic)\n",
    "mean = np.average(log_ret['Close'])\n",
    "var = np.std(log_ret['Close'])**2\n",
    "\n",
    "#Daily \n",
    "print('Daily returns: '+str(round(mean*100,5))+'%')\n",
    "print('Daily volatility: '+str(round(np.sqrt(var),5)))"
   ]
  },
  {
   "cell_type": "code",
   "execution_count": 30,
   "metadata": {},
   "outputs": [
    {
     "data": {
      "text/plain": [
       "<matplotlib.axes._subplots.AxesSubplot at 0x22283863188>"
      ]
     },
     "execution_count": 30,
     "metadata": {},
     "output_type": "execute_result"
    },
    {
     "data": {
      "image/png": "[encoded data removed]",
      "text/plain": [
       "<Figure size 432x288 with 1 Axes>"
      ]
     },
     "metadata": {},
     "output_type": "display_data"
    }
   ],
   "source": [
    "#Plot of TISCX log returns based on close prices\n",
    "log_ret.plot()"
   ]
  },
  {
   "cell_type": "markdown",
   "metadata": {},
   "source": [
    "**Comments on Returns over Time**\n",
    "* Periods of increased volatility in returns are apparent, specifically around early-to-mid 2020\n",
    "* Prior spikes around early 2019 and late 2019 (lesser extent than 2020)\n",
    "* Persistence in volatility throughout COVID (Feb 2020 onward) - possibly?\n",
    "    - Returns seem to swing more post-March 2020"
   ]
  },
  {
   "cell_type": "markdown",
   "metadata": {},
   "source": [
    "#### Plotting ACF and PACF"
   ]
  },
  {
   "cell_type": "markdown",
   "metadata": {},
   "source": [
    "Purpose - to visualize significant lags lengths within our returns data. From here, we make a judgement call as to the GARCH orders to test within our model."
   ]
  },
  {
   "cell_type": "code",
   "execution_count": 31,
   "metadata": {},
   "outputs": [
    {
     "data": {
      "image/png": "[encoded data removed]",
      "text/plain": [
       "<Figure size 432x288 with 1 Axes>"
      ]
     },
     "metadata": {},
     "output_type": "display_data"
    }
   ],
   "source": [
    "# Plotting autocorrelation function\n",
    "plot_acf(log_ret['Close']**2)\n",
    "plt.title('ACF Plot: TISCX')\n",
    "plt.show()"
   ]
  },
  {
   "cell_type": "markdown",
   "metadata": {},
   "source": [
    "**Comments on Autocorrelation**:\n",
    "* Lag with orders of up to t-15 appear to be significant\n",
    "* Not the full picture - let'visualize PACF"
   ]
  },
  {
   "cell_type": "code",
   "execution_count": 32,
   "metadata": {},
   "outputs": [
    {
     "data": {
      "image/png": "[encoded data removed]",
      "text/plain": [
       "<Figure size 432x288 with 1 Axes>"
      ]
     },
     "metadata": {},
     "output_type": "display_data"
    }
   ],
   "source": [
    "# Plotting partial autocorrelation function\n",
    "plot_pacf(log_ret['Close']**2)\n",
    "plt.title('PACF Plot: TISCX')\n",
    "plt.show()"
   ]
  },
  {
   "cell_type": "markdown",
   "metadata": {},
   "source": [
    "**Comments on PACF**:\n",
    "* Two lags appear to be significant, with a sharp drop in significance after lag 2.\n",
    "* Lags 5 and 6 may also be significant\n",
    "* However - decision here is to stick with GARCH(1,1) for simplicity and also the two first orders showing strong significance (visually)"
   ]
  },
  {
   "cell_type": "markdown",
   "metadata": {},
   "source": [
    "#### Training our Model\n",
    "This section is concerned with segmenting 1 trading year's worth of returns (most recent) and using this data to train our model."
   ]
  },
  {
   "cell_type": "code",
   "execution_count": 33,
   "metadata": {},
   "outputs": [],
   "source": [
    "# Set training dataset equal to returns dataset (past 252 days) \n",
    "test_size = 252\n",
    "train = log_ret[-test_size:]"
   ]
  },
  {
   "cell_type": "code",
   "execution_count": 34,
   "metadata": {},
   "outputs": [],
   "source": [
    "# GARCH(1,1) model\n",
    "model = arch_model(train, p=1,q=1)"
   ]
  },
  {
   "cell_type": "code",
   "execution_count": 35,
   "metadata": {},
   "outputs": [
    {
     "name": "stdout",
     "output_type": "stream",
     "text": [
      "Iteration:      1,   Func. Count:      6,   Neg. LLF: 80106.6228732044\n",
      "Iteration:      2,   Func. Count:     18,   Neg. LLF: -236.16602833630523\n",
      "Iteration:      3,   Func. Count:     27,   Neg. LLF: 68706.13544126686\n",
      "Iteration:      4,   Func. Count:     37,   Neg. LLF: 100353.25902220015\n",
      "Iteration:      5,   Func. Count:     49,   Neg. LLF: 3279.126480890212\n",
      "Iteration:      6,   Func. Count:     60,   Neg. LLF: 1029.596692590921\n",
      "Iteration:      7,   Func. Count:     70,   Neg. LLF: 84422.27223495538\n",
      "Iteration:      8,   Func. Count:     82,   Neg. LLF: -258.9100460986791\n",
      "Iteration:      9,   Func. Count:     91,   Neg. LLF: 1356053.3627323147\n",
      "Iteration:     10,   Func. Count:    103,   Neg. LLF: -280.22582075495393\n",
      "Iteration:     11,   Func. Count:    111,   Neg. LLF: -849.3419507794873\n",
      "Optimization terminated successfully    (Exit mode 0)\n",
      "            Current function value: -849.3419507758707\n",
      "            Iterations: 15\n",
      "            Function evaluations: 111\n",
      "            Gradient evaluations: 11\n"
     ]
    }
   ],
   "source": [
    "# Fitting the GARCH(1,1) model\n",
    "model_fit = model.fit()"
   ]
  },
  {
   "cell_type": "code",
   "execution_count": 36,
   "metadata": {},
   "outputs": [
    {
     "data": {
      "text/html": [
       "<table class=\"simpletable\">\n",
       "<caption>Constant Mean - GARCH Model Results</caption>\n",
       "<tr>\n",
       "  <th>Dep. Variable:</th>        <td>Close</td>       <th>  R-squared:         </th>  <td>   0.000</td> \n",
       "</tr>\n",
       "<tr>\n",
       "  <th>Mean Model:</th>       <td>Constant Mean</td>   <th>  Adj. R-squared:    </th>  <td>   0.000</td> \n",
       "</tr>\n",
       "<tr>\n",
       "  <th>Vol Model:</th>            <td>GARCH</td>       <th>  Log-Likelihood:    </th> <td>   849.342</td>\n",
       "</tr>\n",
       "<tr>\n",
       "  <th>Distribution:</th>        <td>Normal</td>       <th>  AIC:               </th> <td>  -1690.68</td>\n",
       "</tr>\n",
       "<tr>\n",
       "  <th>Method:</th>        <td>Maximum Likelihood</td> <th>  BIC:               </th> <td>  -1676.57</td>\n",
       "</tr>\n",
       "<tr>\n",
       "  <th></th>                        <td></td>          <th>  No. Observations:  </th>     <td>252</td>   \n",
       "</tr>\n",
       "<tr>\n",
       "  <th>Date:</th>           <td>Mon, Jan 24 2022</td>  <th>  Df Residuals:      </th>     <td>251</td>   \n",
       "</tr>\n",
       "<tr>\n",
       "  <th>Time:</th>               <td>21:54:15</td>      <th>  Df Model:          </th>      <td>1</td>    \n",
       "</tr>\n",
       "</table>\n",
       "<table class=\"simpletable\">\n",
       "<caption>Mean Model</caption>\n",
       "<tr>\n",
       "   <td></td>     <th>coef</th>     <th>std err</th>      <th>t</th>       <th>P>|t|</th>      <th>95.0% Conf. Int.</th>   \n",
       "</tr>\n",
       "<tr>\n",
       "  <th>mu</th> <td>7.3539e-04</td> <td>4.710e-04</td> <td>    1.562</td> <td>    0.118</td> <td>[-1.877e-04,1.658e-03]</td>\n",
       "</tr>\n",
       "</table>\n",
       "<table class=\"simpletable\">\n",
       "<caption>Volatility Model</caption>\n",
       "<tr>\n",
       "      <td></td>        <th>coef</th>     <th>std err</th>      <th>t</th>       <th>P>|t|</th>     <th>95.0% Conf. Int.</th>   \n",
       "</tr>\n",
       "<tr>\n",
       "  <th>omega</th>    <td>2.2519e-05</td> <td>4.263e-12</td> <td>5.283e+06</td>   <td>0.000</td>   <td>[2.252e-05,2.252e-05]</td>\n",
       "</tr>\n",
       "<tr>\n",
       "  <th>alpha[1]</th> <td>    0.2004</td> <td>7.403e-02</td> <td>    2.707</td> <td>6.798e-03</td>  <td>[5.527e-02,  0.345]</td> \n",
       "</tr>\n",
       "<tr>\n",
       "  <th>beta[1]</th>  <td>    0.4998</td> <td>8.074e-02</td> <td>    6.190</td> <td>6.013e-10</td>   <td>[  0.342,  0.658]</td>  \n",
       "</tr>\n",
       "</table><br/><br/>Covariance estimator: robust"
      ],
      "text/plain": [
       "<class 'statsmodels.iolib.summary.Summary'>\n",
       "\"\"\"\n",
       "                     Constant Mean - GARCH Model Results                      \n",
       "==============================================================================\n",
       "Dep. Variable:                  Close   R-squared:                       0.000\n",
       "Mean Model:             Constant Mean   Adj. R-squared:                  0.000\n",
       "Vol Model:                      GARCH   Log-Likelihood:                849.342\n",
       "Distribution:                  Normal   AIC:                          -1690.68\n",
       "Method:            Maximum Likelihood   BIC:                          -1676.57\n",
       "                                        No. Observations:                  252\n",
       "Date:                Mon, Jan 24 2022   Df Residuals:                      251\n",
       "Time:                        21:54:15   Df Model:                            1\n",
       "                                  Mean Model                                 \n",
       "=============================================================================\n",
       "                 coef    std err          t      P>|t|       95.0% Conf. Int.\n",
       "-----------------------------------------------------------------------------\n",
       "mu         7.3539e-04  4.710e-04      1.562      0.118 [-1.877e-04,1.658e-03]\n",
       "                              Volatility Model                              \n",
       "============================================================================\n",
       "                 coef    std err          t      P>|t|      95.0% Conf. Int.\n",
       "----------------------------------------------------------------------------\n",
       "omega      2.2519e-05  4.263e-12  5.283e+06      0.000 [2.252e-05,2.252e-05]\n",
       "alpha[1]       0.2004  7.403e-02      2.707  6.798e-03   [5.527e-02,  0.345]\n",
       "beta[1]        0.4998  8.074e-02      6.190  6.013e-10     [  0.342,  0.658]\n",
       "============================================================================\n",
       "\n",
       "Covariance estimator: robust\n",
       "\"\"\""
      ]
     },
     "execution_count": 36,
     "metadata": {},
     "output_type": "execute_result"
    }
   ],
   "source": [
    "# Summary statistics from the GARCH Model estimation\n",
    "model_fit.summary()"
   ]
  },
  {
   "cell_type": "markdown",
   "metadata": {},
   "source": [
    "**Comments on TISCX GARCH Output**:\n",
    "* $\\alpha + \\beta = 0.7002 < 1$\n",
    "    - This shows that GARCH(1,1) is appropriate\n",
    "* All GARCH parameters are significant (1% level)\n",
    "* GARCH(1,1) is therefore appropriate in the prediction of volatility"
   ]
  },
  {
   "cell_type": "markdown",
   "metadata": {},
   "source": [
    "---"
   ]
  },
  {
   "cell_type": "markdown",
   "metadata": {},
   "source": [
    "#### Rolling Forecast\n",
    "Building a GARCH model for each of the past 252 days. I build a GARCH(1,1) model into each of those forecasting periods and predict the next day (effectively building 252 GARCH models, iteratively)."
   ]
  },
  {
   "cell_type": "code",
   "execution_count": 37,
   "metadata": {},
   "outputs": [],
   "source": [
    "rolling_pred = []\n",
    "test_size = 252\n",
    "\n",
    "for i in range(test_size):\n",
    "    train = log_ret['Close'][:-(test_size-i)]\n",
    "    model = arch_model(train,p=1,q=1)\n",
    "    model_fit = model.fit(disp=\"off\")\n",
    "    pred = model_fit.forecast(horizon=1)\n",
    "    rolling_pred.append(np.sqrt(pred.variance.values[-1,:][0]))"
   ]
  },
  {
   "cell_type": "code",
   "execution_count": 38,
   "metadata": {},
   "outputs": [],
   "source": [
    "# Set rolling prediction to past 252 trading days\n",
    "rolling_pred = pd.Series(rolling_pred, index=log_ret.index[-252:])"
   ]
  },
  {
   "cell_type": "code",
   "execution_count": 39,
   "metadata": {},
   "outputs": [
    {
     "data": {
      "text/plain": [
       "<matplotlib.legend.Legend at 0x22284a07088>"
      ]
     },
     "execution_count": 39,
     "metadata": {},
     "output_type": "execute_result"
    },
    {
     "data": {
      "image/png": "[encoded data removed]",
      "text/plain": [
       "<Figure size 1080x576 with 1 Axes>"
      ]
     },
     "metadata": {},
     "output_type": "display_data"
    }
   ],
   "source": [
    "# Plotting volatility predictions against actual returns\n",
    "plt.figure(figsize=(15,8))\n",
    "plt.style.use('dark_background')\n",
    "preds, = plt.plot(rolling_pred, color='red')\n",
    "true, = plt.plot(log_ret['Close'][-252:], color='green')\n",
    "plt.title('Volatility Predictions', fontsize=25)\n",
    "plt.legend(['Predicted Volatility', 'True Returns'], fontsize=15)"
   ]
  },
  {
   "cell_type": "markdown",
   "metadata": {},
   "source": [
    "**Comments on chart**:\n",
    "* Predicted volatility increases and persists with sharp changes in true returns\n",
    "* This is an indication that GARCH(1,1) might a good model\n",
    "    - Remember that the predicted volatility is forecasted 1 day in advance of each actual observed returns "
   ]
  },
  {
   "cell_type": "markdown",
   "metadata": {},
   "source": [
    "#### Volatility Forecast (7-days)"
   ]
  },
  {
   "cell_type": "code",
   "execution_count": 40,
   "metadata": {},
   "outputs": [],
   "source": [
    "# Using the past 252 days' data to train the GARCH(1,1) ***PREDICTION*** model\n",
    "train = log_ret['Close'][-252:]\n",
    "model = arch_model(train, p=1, q=1)\n",
    "model_fit = model.fit(disp=\"off\")"
   ]
  },
  {
   "cell_type": "code",
   "execution_count": 41,
   "metadata": {},
   "outputs": [],
   "source": [
    "# Using the trained model to forecast GARCH(1,1) over the next 7 days\n",
    "pred = model_fit.forecast(horizon=7)\n",
    "future_dates =  [log_ret.index[-1] + timedelta(days=i) for i in range(1,8)]\n",
    "pred = pd.Series(np.sqrt(pred.variance.values[-1,:]), index=future_dates)"
   ]
  },
  {
   "cell_type": "code",
   "execution_count": 42,
   "metadata": {},
   "outputs": [
    {
     "data": {
      "image/png": "[encoded data removed]",
      "text/plain": [
       "<Figure size 720x288 with 1 Axes>"
      ]
     },
     "metadata": {},
     "output_type": "display_data"
    }
   ],
   "source": [
    "# Plotting projected volatilities over the next 7 days\n",
    "plt.figure(figsize=(10,4))\n",
    "plt.style.use('dark_background')\n",
    "plt.plot(pred, color='red')\n",
    "plt.title('Volatility Prediction (7 Days Ahead)', fontsize=20)\n",
    "plt.savefig('vol_pred.png')"
   ]
  },
  {
   "cell_type": "markdown",
   "metadata": {},
   "source": [
    "**Comments on GARCH short-term estimation**:\n",
    "* Observe a fall in volatility in the next 7 days from 0.98% to approx 0.865%"
   ]
  },
  {
   "cell_type": "markdown",
   "metadata": {},
   "source": [
    "The volatility predictions can be used to make decisions on stock/asset holdings. For instance, you might decide to hold TISCX in the coming week based on volatility falling. \n",
    "\n",
    "An institutional active fund manager facing a volatility constraint might decide that on rebalancing, based on the predicted falling volatility in the next 7 days, the next trade COULD include buying more of TISCX."
   ]
  }
 ],
 "metadata": {
  "interpreter": {
   "hash": "0298a731d782765c9ba440b6db89c3a2fd9bda74a8eff439af1493ff1f61ac08"
  },
  "kernelspec": {
   "display_name": "Python 3.10.1 64-bit ('myenv2': conda)",
   "language": "python",
   "name": "python3"
  },
  "language_info": {
   "codemirror_mode": {
    "name": "ipython",
    "version": 3
   },
   "file_extension": ".py",
   "mimetype": "text/x-python",
   "name": "python",
   "nbconvert_exporter": "python",
   "pygments_lexer": "ipython3",
   "version": "3.7.8"
  },
  "orig_nbformat": 4
 },
 "nbformat": 4,
 "nbformat_minor": 2
}
